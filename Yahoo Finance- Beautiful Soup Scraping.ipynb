{
 "cells": [
  {
   "cell_type": "code",
   "execution_count": 1,
   "metadata": {},
   "outputs": [],
   "source": [
    "import pandas as pd\n",
    "from datetime import datetime\n",
    "import matplotlib.pyplot as plt\n",
    "import requests\n",
    "from bs4 import BeautifulSoup\n",
    "import numpy as np\n",
    "import concurrent.futures\n"
   ]
  },
  {
   "cell_type": "code",
   "execution_count": 4,
   "metadata": {},
   "outputs": [],
   "source": [
    "df = pd.DataFrame()\n",
    "prices = pd.DataFrame()\n",
    "\n",
    "df = pd.read_csv('traded_symbol.csv')\n",
    "df = df.drop(['Unnamed: 0'] , axis = 1)\n",
    "df = df.drop(labels = range(850,1793) , axis = 0)"
   ]
  },
  {
   "cell_type": "code",
   "execution_count": 10,
   "metadata": {},
   "outputs": [],
   "source": [
    "headers = {'User-Agent' : 'Mozilla/5.0 (Windows NT 10.0; Win64; x64) AppleWebKit/537.36 (KHTML, like Gecko) Chrome/92.0.4515.131 Safari/537.36'}"
   ]
  },
  {
   "cell_type": "code",
   "execution_count": 12,
   "metadata": {},
   "outputs": [],
   "source": [
    "symbols = []\n",
    "for symbol in df['Symbol']:\n",
    "    symbols.append(symbol)\n",
    "urls = []\n",
    "\n",
    "for symbol in symbols:\n",
    "    url = f\"https://finance.yahoo.com/quote/{symbol}.NS/history?p={symbol}.NS\"\n",
    "    urls.append(url)\n",
    "urls"
   ]
  },
  {
   "cell_type": "code",
   "execution_count": 14,
   "metadata": {},
   "outputs": [],
   "source": [
    "def prices(url):\n",
    "    a = []\n",
    "    x = url.rpartition('quote/')\n",
    "    y = x[-1].rpartition('.NS/')\n",
    "    column = y[0]\n",
    "    df1[column] = ''\n",
    "    count = 0\n",
    "    days = 1\n",
    "    \n",
    "    r = requests.get(url , headers = headers)\n",
    "    soup = BeautifulSoup(r.text, 'html.parser')\n",
    "    price = soup.find('table' , {'class' : \"W(100%) M(0)\"})\n",
    "    if(len(price)>0):\n",
    "        price1 = price.find_all('tr')\n",
    "        if(len(price1) > days):\n",
    "            for i in price1[1:2]:\n",
    "                x = i.find_all('span')\n",
    "                if(len(x) == 7 ):\n",
    "                    a.append(x[5].text)\n",
    "                else:\n",
    "                    count = count+1\n",
    "                    \n",
    "            k = 0\n",
    "            \n",
    "            while(k<count):\n",
    "                w = price1[days + k].find_all('span')\n",
    "                if(len(w) == 7 ):\n",
    "                    a.append(w[5].text)\n",
    "                    k+=1\n",
    "                else:\n",
    "                    days = days + 1\n",
    "                \n",
    "                \n",
    "                \n",
    "\n",
    "\n",
    "            for i in range(0,len(a)):\n",
    "                df1.loc[i,column] = a[i]\n",
    "            a.clear()\n",
    "\n",
    "    "
   ]
  },
  {
   "cell_type": "code",
   "execution_count": 18,
   "metadata": {},
   "outputs": [],
   "source": [
    "df1 = pd.DataFrame()"
   ]
  },
  {
   "cell_type": "code",
   "execution_count": 20,
   "metadata": {},
   "outputs": [
    {
     "data": {
      "text/html": [
       "<div>\n",
       "<style scoped>\n",
       "    .dataframe tbody tr th:only-of-type {\n",
       "        vertical-align: middle;\n",
       "    }\n",
       "\n",
       "    .dataframe tbody tr th {\n",
       "        vertical-align: top;\n",
       "    }\n",
       "\n",
       "    .dataframe thead th {\n",
       "        text-align: right;\n",
       "    }\n",
       "</style>\n",
       "<table border=\"1\" class=\"dataframe\">\n",
       "  <thead>\n",
       "    <tr style=\"text-align: right;\">\n",
       "      <th></th>\n",
       "      <th>RELIANCE</th>\n",
       "      <th>TCS</th>\n",
       "      <th>HDFCBANK</th>\n",
       "      <th>INFY</th>\n",
       "      <th>HINDUNILVR</th>\n",
       "      <th>HDFC</th>\n",
       "      <th>ICICIBANK</th>\n",
       "      <th>KOTAKBANK</th>\n",
       "      <th>SBIN</th>\n",
       "      <th>BAJFINANCE</th>\n",
       "      <th>...</th>\n",
       "      <th>GODREJIND</th>\n",
       "      <th>SANOFI</th>\n",
       "      <th>BATAINDIA</th>\n",
       "      <th>COFORGE</th>\n",
       "      <th>APLAPOLLO</th>\n",
       "      <th>ESCORTS</th>\n",
       "      <th>ABFRL</th>\n",
       "      <th>SCHAEFFLER</th>\n",
       "      <th>BHEL</th>\n",
       "      <th>SUNDRMFAST</th>\n",
       "    </tr>\n",
       "  </thead>\n",
       "  <tbody>\n",
       "    <tr>\n",
       "      <th>0</th>\n",
       "      <td>2,425.60</td>\n",
       "      <td>3,791.40</td>\n",
       "      <td>1,568.60</td>\n",
       "      <td>1,691.60</td>\n",
       "      <td>2,810.65</td>\n",
       "      <td>2,830.10</td>\n",
       "      <td>720.25</td>\n",
       "      <td>1,817.85</td>\n",
       "      <td>432.30</td>\n",
       "      <td>7,430.65</td>\n",
       "      <td>...</td>\n",
       "      <td>559.75</td>\n",
       "      <td>8,204.35</td>\n",
       "      <td>1,737.75</td>\n",
       "      <td>5,114.95</td>\n",
       "      <td>1,879.50</td>\n",
       "      <td>1,375.95</td>\n",
       "      <td>214.40</td>\n",
       "      <td>7,379.50</td>\n",
       "      <td>55.65</td>\n",
       "      <td>896.70</td>\n",
       "    </tr>\n",
       "  </tbody>\n",
       "</table>\n",
       "<p>1 rows × 200 columns</p>\n",
       "</div>"
      ],
      "text/plain": [
       "   RELIANCE       TCS  HDFCBANK      INFY HINDUNILVR      HDFC ICICIBANK  \\\n",
       "0  2,425.60  3,791.40  1,568.60  1,691.60   2,810.65  2,830.10    720.25   \n",
       "\n",
       "  KOTAKBANK    SBIN BAJFINANCE  ... GODREJIND    SANOFI BATAINDIA   COFORGE  \\\n",
       "0  1,817.85  432.30   7,430.65  ...    559.75  8,204.35  1,737.75  5,114.95   \n",
       "\n",
       "  APLAPOLLO   ESCORTS   ABFRL SCHAEFFLER   BHEL SUNDRMFAST  \n",
       "0  1,879.50  1,375.95  214.40   7,379.50  55.65     896.70  \n",
       "\n",
       "[1 rows x 200 columns]"
      ]
     },
     "execution_count": 20,
     "metadata": {},
     "output_type": "execute_result"
    }
   ],
   "source": [
    "df1"
   ]
  }
 ],
 "metadata": {
  "kernelspec": {
   "display_name": "Python 3",
   "language": "python",
   "name": "python3"
  },
  "language_info": {
   "codemirror_mode": {
    "name": "ipython",
    "version": 3
   },
   "file_extension": ".py",
   "mimetype": "text/x-python",
   "name": "python",
   "nbconvert_exporter": "python",
   "pygments_lexer": "ipython3",
   "version": "3.8.8"
  }
 },
 "nbformat": 4,
 "nbformat_minor": 2
}
