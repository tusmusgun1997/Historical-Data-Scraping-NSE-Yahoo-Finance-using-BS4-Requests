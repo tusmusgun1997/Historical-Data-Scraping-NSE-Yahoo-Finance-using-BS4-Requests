{
 "cells": [
  {
   "cell_type": "code",
   "execution_count": 1,
   "id": "70266e80",
   "metadata": {},
   "outputs": [],
   "source": [
    "import requests\n",
    "import pandas as pd\n",
    "import pymongo\n",
    "import datetime\n",
    "from dateutil import parser\n",
    "import concurrent.futures\n",
    "import statistics\n",
    "import math\n"
   ]
  },
  {
   "cell_type": "code",
   "execution_count": 2,
   "id": "598b746c",
   "metadata": {},
   "outputs": [],
   "source": [
    "df = pd.read_csv('nifty_500.csv')"
   ]
  },
  {
   "cell_type": "code",
   "execution_count": 3,
   "id": "78907925",
   "metadata": {},
   "outputs": [],
   "source": [
    "client = pymongo.MongoClient('mongodb://127.0.0.1:27017/')\n",
    "mydb = client['Algorithmic_Trading']\n",
    "info = mydb.historical_data_500"
   ]
  },
  {
   "cell_type": "code",
   "execution_count": 4,
   "id": "1700c648",
   "metadata": {},
   "outputs": [],
   "source": [
    "headers = {'User-Agent' : 'Mozilla/5.0 (Windows NT 10.0; Win64; x64) AppleWebKit/537.36 (KHTML, like Gecko) Chrome/92.0.4515.131 Safari/537.36'}"
   ]
  },
  {
   "cell_type": "code",
   "execution_count": 5,
   "id": "a8fae1af",
   "metadata": {},
   "outputs": [],
   "source": [
    "stocks_used = df['Symbol'].tolist()"
   ]
  },
  {
   "cell_type": "code",
   "execution_count": 6,
   "id": "e1bee6de",
   "metadata": {},
   "outputs": [],
   "source": [
    "urls = []\n",
    "for s in stocks_used:\n",
    "    url = f\"https://query1.finance.yahoo.com/v8/finance/chart/{s}.NS?formatted=true&crumb=M6Y926IjM5W&lang=en-US&region=US&includeAdjustedClose=true&interval=1d&period1=724291200&period2=1635811200&events=capitalGain%7Cdiv%7Csplit&useYfid=true&corsDomain=finance.yahoo.com\"\n",
    "    urls.append(url)"
   ]
  },
  {
   "cell_type": "code",
   "execution_count": 7,
   "id": "c3fd8f10",
   "metadata": {},
   "outputs": [],
   "source": [
    "\n",
    "def append_it(u):\n",
    "    \n",
    "    r = requests.get(u , headers = headers)\n",
    "    data = r.json()\n",
    "    \n",
    "    \n",
    "    \n",
    "    Time = data['chart']['result'][0]['timestamp']\n",
    "    Low = data['chart']['result'][0]['indicators']['quote'][0]['low']\n",
    "    High = data['chart']['result'][0]['indicators']['quote'][0]['high']\n",
    "    Open = data['chart']['result'][0]['indicators']['quote'][0]['open']\n",
    "    Close = data['chart']['result'][0]['indicators']['quote'][0]['close']\n",
    "    Volume = data['chart']['result'][0]['indicators']['quote'][0]['volume']\n",
    "    \n",
    "    total_length = len(Time)\n",
    "    \n",
    "    hist_data = []\n",
    "    \n",
    "    for i in range(0,total_length):\n",
    "        \n",
    "        \n",
    "        db_dict = {}\n",
    "        \n",
    "        single = {}\n",
    "        \n",
    "        \n",
    "        Date = Time[i]\n",
    "        \n",
    "        r = datetime.datetime.fromtimestamp(Date)\n",
    "        \n",
    "        month = r.month\n",
    "        if(r.month < 10):\n",
    "            month = '0' + str(r.month)\n",
    "\n",
    "        day = r.day\n",
    "        if(r.day < 10):\n",
    "            day = '0' + str(r.day)\n",
    "            \n",
    "        year = r.year\n",
    "\n",
    "        single['Date'] = str(year) + '-' + str(month) + '-' + str(day)\n",
    "        \n",
    "        if Open[i] is not None:\n",
    "            single['Open'] = Open[i]\n",
    "        else:\n",
    "            Open_val = Open[i-1]\n",
    "            Open[i] = Open_val\n",
    "            \n",
    "            single['Open'] = Open[i]\n",
    "            \n",
    "            \n",
    "            \n",
    "        if High[i] is not None:\n",
    "            single['High'] = High[i]\n",
    "        else:\n",
    "            High_val = High[i-1]\n",
    "            High[i] = High_val\n",
    "            \n",
    "            single['High'] = High[i]\n",
    "            \n",
    "            \n",
    "            \n",
    "        if Low[i] is not None:\n",
    "            single['Low'] = Low[i]\n",
    "        else:\n",
    "            Low_val = Low[i-1]\n",
    "            Low[i] = Low_val\n",
    "            \n",
    "            single['Low'] = Low[i]\n",
    "\n",
    "            \n",
    "            \n",
    "        if Close[i] is not None:\n",
    "            single['Close'] = Close[i]\n",
    "        else:\n",
    "            Close_val = Close[i-1]\n",
    "            Close[i] = Close_val\n",
    "            \n",
    "            single['Close'] = Close[i]\n",
    "            \n",
    "            \n",
    "            \n",
    "        if Volume[i] is not None:\n",
    "            single['Volume'] = Volume[i]\n",
    "        else:\n",
    "            Volume_val = Volume[i-1]\n",
    "            Volume[i] = Volume_val\n",
    "        \n",
    "            single['Volume'] = Volume[i]\n",
    "            \n",
    "            \n",
    "        \n",
    "        hist_data.append(single)\n",
    "    db_dict['Symbol'] = u.rpartition('chart/')[2].rpartition('.NS')[0]\n",
    "    db_dict['Data'] = hist_data\n",
    "    \n",
    "    \n",
    "    info.insert_one(db_dict)\n",
    "    \n",
    "        \n"
   ]
  },
  {
   "cell_type": "code",
   "execution_count": 8,
   "id": "fb93c759",
   "metadata": {},
   "outputs": [],
   "source": [
    "with concurrent.futures.ThreadPoolExecutor(max_workers = 20) as executor:\n",
    "    executor.map(append_it,urls)"
   ]
  },
  {
   "cell_type": "code",
   "execution_count": null,
   "id": "71e6579a",
   "metadata": {},
   "outputs": [],
   "source": []
  }
 ],
 "metadata": {
  "kernelspec": {
   "display_name": "Python 3",
   "language": "python",
   "name": "python3"
  },
  "language_info": {
   "codemirror_mode": {
    "name": "ipython",
    "version": 3
   },
   "file_extension": ".py",
   "mimetype": "text/x-python",
   "name": "python",
   "nbconvert_exporter": "python",
   "pygments_lexer": "ipython3",
   "version": "3.8.8"
  }
 },
 "nbformat": 4,
 "nbformat_minor": 5
}
